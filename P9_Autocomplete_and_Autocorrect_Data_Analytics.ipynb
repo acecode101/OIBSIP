{
  "nbformat": 4,
  "nbformat_minor": 0,
  "metadata": {
    "colab": {
      "provenance": []
    },
    "kernelspec": {
      "name": "python3",
      "display_name": "Python 3"
    },
    "language_info": {
      "name": "python"
    }
  },
  "cells": [
    {
      "cell_type": "code",
      "source": [
        "!pip install pyspellchecker\n",
        "\n",
        "import pandas as pd\n",
        "import numpy as np\n",
        "from sklearn.feature_extraction.text import CountVectorizer\n",
        "from sklearn.metrics.pairwise import cosine_similarity\n",
        "from spellchecker import SpellChecker\n",
        "\n",
        "data = {\n",
        "    'TransactionID': [1, 2, 3, 4, 5, 6, 7, 8, 9, 10],\n",
        "    'TransactionAmount': [120.5, 49.99, 999.99, 59.49, 5.00, 120.89, 999.00, 39.00, 99.50, 79.99],\n",
        "    'TransactionType': ['Purchase', 'Purchase', 'Purchase', 'Withdrawal', 'Purchase', 'Purchase', 'Purchase', 'Withdrawal', 'Purchase', 'Purchase'],\n",
        "    'Merchant': ['Amazon', 'BestBuy', 'Walmart', 'Paypal', 'Ebay', 'Amazon', 'BestBuy', 'Paypal', 'Walmart', 'Ebay'],\n",
        "    'CustomerAddress': ['New York', 'California', 'Texas', 'California', 'New York', 'Texas', 'New York', 'Texas', 'California', 'California']\n",
        "}\n",
        "\n",
        "df = pd.DataFrame(data)\n",
        "\n",
        "def autocomplete(input_text, data_column):\n",
        "    vectorizer = CountVectorizer().fit(data_column)\n",
        "    data_vec = vectorizer.transform(data_column)\n",
        "    input_vec = vectorizer.transform([input_text])\n",
        "    similarity_scores = cosine_similarity(input_vec, data_vec)\n",
        "    most_similar_idx = np.argmax(similarity_scores)\n",
        "    return data_column[most_similar_idx]\n",
        "\n",
        "def autocorrect(input_text):\n",
        "    spell = SpellChecker()\n",
        "    words = input_text.split()\n",
        "    corrected_words = [spell.correction(word) for word in words]\n",
        "    return ' '.join(corrected_words)\n",
        "\n",
        "autocomplete_examples = [\"Ama\", \"Walm\", \"Payp\"]\n",
        "autocorrect_examples = [\"Walmat\", \"BestBu\", \"Amaon\"]\n",
        "\n",
        "print(\"Autocomplete Results:\")\n",
        "for input_text in autocomplete_examples:\n",
        "    result = autocomplete(input_text, df['Merchant'])\n",
        "    print(f\"Input: '{input_text}' -> Autocomplete: '{result}'\")\n",
        "\n",
        "print(\"\\nAutocorrect Results:\")\n",
        "for input_text in autocorrect_examples:\n",
        "    result = autocorrect(input_text)\n",
        "    print(f\"Input: '{input_text}' -> Autocorrect: '{result}'\")\n",
        "\n",
        "print(\"\\nDataset:\")\n",
        "print(df)"
      ],
      "metadata": {
        "colab": {
          "base_uri": "https://localhost:8080/"
        },
        "id": "IC3vQEcukwNo",
        "outputId": "08b7df4e-5ad9-4cf7-9ca4-9a985388abb3"
      },
      "execution_count": 11,
      "outputs": [
        {
          "output_type": "stream",
          "name": "stdout",
          "text": [
            "Requirement already satisfied: pyspellchecker in /usr/local/lib/python3.10/dist-packages (0.8.2)\n",
            "Autocomplete Results:\n",
            "Input: 'Ama' -> Autocomplete: 'Amazon'\n",
            "Input: 'Walm' -> Autocomplete: 'Amazon'\n",
            "Input: 'Payp' -> Autocomplete: 'Amazon'\n",
            "\n",
            "Autocorrect Results:\n",
            "Input: 'Walmat' -> Autocorrect: 'walmart'\n",
            "Input: 'BestBu' -> Autocorrect: 'best'\n",
            "Input: 'Amaon' -> Autocorrect: 'amazon'\n",
            "\n",
            "Dataset:\n",
            "   TransactionID  TransactionAmount TransactionType Merchant CustomerAddress\n",
            "0              1             120.50        Purchase   Amazon        New York\n",
            "1              2              49.99        Purchase  BestBuy      California\n",
            "2              3             999.99        Purchase  Walmart           Texas\n",
            "3              4              59.49      Withdrawal   Paypal      California\n",
            "4              5               5.00        Purchase     Ebay        New York\n",
            "5              6             120.89        Purchase   Amazon           Texas\n",
            "6              7             999.00        Purchase  BestBuy        New York\n",
            "7              8              39.00      Withdrawal   Paypal           Texas\n",
            "8              9              99.50        Purchase  Walmart      California\n",
            "9             10              79.99        Purchase     Ebay      California\n"
          ]
        }
      ]
    }
  ]
}